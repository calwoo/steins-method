{
 "cells": [
  {
   "cell_type": "code",
   "execution_count": 1,
   "metadata": {},
   "outputs": [],
   "source": [
    "### imports\n",
    "import numpy as np\n",
    "import matplotlib.pyplot as plt\n",
    "plt.style.use(\"ggplot\")\n",
    "%matplotlib inline\n",
    "\n",
    "import torch\n",
    "import torch.nn as nn\n",
    "import torch.nn.functional as F\n",
    "import torch.optim as optim"
   ]
  },
  {
   "cell_type": "code",
   "execution_count": 2,
   "metadata": {},
   "outputs": [],
   "source": [
    "### rbf kernel\n",
    "class RBFKernel:\n",
    "    \"\"\"radial basis (gaussian) kernel\"\"\"\n",
    "    def __init__(self, sigma=1.0):\n",
    "        self.sigma = sigma\n",
    "\n",
    "    def eval(self, x, y):\n",
    "        dist = torch.sum((x-y)**2)\n",
    "        return torch.exp(- dist / (2 * self.sigma**2))\n",
    "    \n",
    "rbf_kernel = RBFKernel(sigma=1.0)"
   ]
  },
  {
   "cell_type": "code",
   "execution_count": 3,
   "metadata": {},
   "outputs": [
    {
     "data": {
      "text/plain": [
       "tensor([ 0.1642, -0.0821, -0.0000])"
      ]
     },
     "execution_count": 3,
     "metadata": {},
     "output_type": "execute_result"
    }
   ],
   "source": [
    "x = torch.tensor([1,0,2], requires_grad=True, dtype=torch.float32)\n",
    "y = torch.tensor([3,-1,2], requires_grad=True, dtype=torch.float32)\n",
    "z = rbf_kernel.eval(x,y)\n",
    "\n",
    "z.backward()\n",
    "x.grad"
   ]
  },
  {
   "cell_type": "markdown",
   "metadata": {},
   "source": [
    "**stein operator**\n",
    "\n",
    "Let $p(x)$ be a smooth density supported on $\\mathcal{X}\\subset\\mathbb{R}^n$ and $\\phi(x)=[\\phi_1(x),...,\\phi_n(x)]^T$ a smooth function $\\mathcal{X}\\rightarrow\\mathbb{R^n}$. We let the Stein operator be given by the functional operator\n",
    "\n",
    "$$ \\mathcal{A}_p\\phi(x) = \\phi(x)\\nabla_x\\log{p(x)}^T + \\nabla_x\\phi(x) $$\n",
    "\n",
    "Taking the trace of this operator we get a scalar quantity, known as the Langevin-Stein operator."
   ]
  },
  {
   "cell_type": "code",
   "execution_count": 4,
   "metadata": {},
   "outputs": [
    {
     "data": {
      "text/plain": [
       "tensor(8., grad_fn=<AddBackward0>)"
      ]
     },
     "execution_count": 4,
     "metadata": {},
     "output_type": "execute_result"
    }
   ],
   "source": [
    "### langevin-stein operator\n",
    "def langevin_stein(p, phi, x):\n",
    "    \"\"\"\n",
    "    implementation of the Langevin-Stein operator, which is an operator\n",
    "    variational objective useful for SVGD.\n",
    "    \"\"\"\n",
    "    # attractive term\n",
    "    x_a = x.detach().requires_grad_()\n",
    "    log_prob = torch.log(p(x_a))\n",
    "    log_prob.backward()\n",
    "    a_term = torch.dot(phi(x_a), x_a.grad)\n",
    "    \n",
    "    # repulsive term\n",
    "    x_r = x.detach().requires_grad_()\n",
    "    phi_x = phi(x_r)\n",
    "    phi_x.backward(torch.ones_like(x_r))\n",
    "    r_term = torch.sum(x_r.grad)\n",
    "    \n",
    "    return a_term + r_term\n",
    "\n",
    "def p(x):\n",
    "    return torch.exp(x)\n",
    "\n",
    "def phi(x):\n",
    "    return x**2\n",
    "\n",
    "x = torch.tensor([2.0], requires_grad=True)\n",
    "langevin_stein(p, phi, x)"
   ]
  },
  {
   "cell_type": "markdown",
   "metadata": {},
   "source": [
    "Stein's identity states that for arbitrary $\\phi$ we should have $\\mathbb{E}_{x\\sim p}[\\operatorname{trace}{(\\mathcal{A}_p\\phi(x))}] = 0$. Here the term inside of the expectation is given by the Langevin-Stein operator."
   ]
  },
  {
   "cell_type": "code",
   "execution_count": 5,
   "metadata": {},
   "outputs": [
    {
     "data": {
      "image/png": "[encoded data removed]",
      "text/plain": [
       "<Figure size 432x288 with 1 Axes>"
      ]
     },
     "metadata": {
      "needs_background": "light"
     },
     "output_type": "display_data"
    }
   ],
   "source": [
    "def p(x):\n",
    "    \"\"\"\n",
    "    torch tensor version of N(0,1) gaussian\n",
    "    \"\"\"\n",
    "    return torch.exp(torch.distributions.Normal(0,1).log_prob(x))\n",
    "    \n",
    "num_samples = 1000\n",
    "s = torch.distributions.Normal(0,1).sample((num_samples,))\n",
    "\n",
    "plot_s = s.detach().numpy()\n",
    "plt.hist(plot_s, density=True)\n",
    "plt.show()"
   ]
  },
  {
   "cell_type": "code",
   "execution_count": 6,
   "metadata": {},
   "outputs": [
    {
     "name": "stderr",
     "output_type": "stream",
     "text": [
      "100%|██████████| 149/149 [00:46<00:00,  1.72it/s]\n"
     ]
    },
    {
     "data": {
      "image/png": "[encoded data removed]",
      "text/plain": [
       "<Figure size 432x288 with 1 Axes>"
      ]
     },
     "metadata": {
      "needs_background": "light"
     },
     "output_type": "display_data"
    }
   ],
   "source": [
    "from tqdm import tqdm\n",
    "\n",
    "### steins identity\n",
    "def ls_expectation(p, q, phi, num_samples):\n",
    "    \"\"\"\n",
    "    compute monte carlo estimate of the (nonkernelized)\n",
    "    stein discrepancy, where samples come from q.\n",
    "    \"\"\"\n",
    "    x = q.sample((num_samples,))\n",
    "    ls_vals = torch.zeros(x.shape)\n",
    "    for i in range(len(x)):\n",
    "        ls_vals[i] = langevin_stein(p, phi, x[i].view(-1))\n",
    "    \n",
    "    return torch.mean(ls_vals)\n",
    "\n",
    "q = torch.distributions.Normal(0,1)\n",
    "lss = []\n",
    "for i in tqdm(range(1, 150)):\n",
    "    num_samples = 10 * i\n",
    "    ls = ls_expectation(p, q, phi, num_samples).item()\n",
    "    lss.append(ls)\n",
    "    \n",
    "plt.plot(lss)\n",
    "plt.show()"
   ]
  },
  {
   "cell_type": "code",
   "execution_count": 7,
   "metadata": {},
   "outputs": [
    {
     "name": "stderr",
     "output_type": "stream",
     "text": [
      "100%|██████████| 149/149 [00:45<00:00,  1.12it/s]\n"
     ]
    },
    {
     "data": {
      "image/png": "[encoded data removed]",
      "text/plain": [
       "<Figure size 432x288 with 1 Axes>"
      ]
     },
     "metadata": {
      "needs_background": "light"
     },
     "output_type": "display_data"
    }
   ],
   "source": [
    "### stein discrepancy (not really, phi isn't optimal)\n",
    "q = torch.distributions.Normal(1,1)\n",
    "lss = []\n",
    "for i in tqdm(range(1, 150)):\n",
    "    num_samples = 10 * i\n",
    "    ls = ls_expectation(p, q, phi, num_samples).item()\n",
    "    lss.append(ls)\n",
    "    \n",
    "plt.plot(lss)\n",
    "plt.show()"
   ]
  },
  {
   "cell_type": "markdown",
   "metadata": {},
   "source": [
    "Cool."
   ]
  },
  {
   "cell_type": "markdown",
   "metadata": {},
   "source": [
    "In kernelized Stein discrepancy (KSD), we take our test functions from the unit ball of a RKHS. The corresponding kernel is an ingredient of the optimal test function $\\phi^*_{q,p}$ to the expectation above.\n",
    "\n",
    "Here, $\\phi^*_{q,p}(-) = \\mathbb{E}_{x\\sim q}[\\mathcal{A}_p k(x,-)]$, and in this case,\n",
    "\n",
    "$$ \\mathbf{S}(q,p) = \\mathbb{E}_{x\\sim p}[\\operatorname{trace}{(\\mathcal{A}_p\\phi^*_{q,p}(x))}^2]  $$\n",
    "\n",
    "is the **kernelized Stein discrepancy**."
   ]
  },
  {
   "cell_type": "code",
   "execution_count": null,
   "metadata": {},
   "outputs": [],
   "source": []
  }
 ],
 "metadata": {
  "kernelspec": {
   "display_name": "Python 3",
   "language": "python",
   "name": "python3"
  },
  "language_info": {
   "codemirror_mode": {
    "name": "ipython",
    "version": 3
   },
   "file_extension": ".py",
   "mimetype": "text/x-python",
   "name": "python",
   "nbconvert_exporter": "python",
   "pygments_lexer": "ipython3",
   "version": "3.6.8"
  }
 },
 "nbformat": 4,
 "nbformat_minor": 2
}
