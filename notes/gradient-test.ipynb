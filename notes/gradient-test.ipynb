{
 "cells": [
  {
   "cell_type": "code",
   "execution_count": 1,
   "metadata": {},
   "outputs": [],
   "source": [
    "import numpy as np\n",
    "import matplotlib.pyplot as plt\n",
    "plt.style.use(\"ggplot\")\n",
    "\n",
    "import torch\n",
    "from torch.autograd import grad"
   ]
  },
  {
   "cell_type": "markdown",
   "metadata": {},
   "source": [
    "I don't know how to deal with PyTorch gradients.\n",
    "\n",
    "Suppose I have a function $f(x) = x^2$ and a function $g(x) = x + \\nabla_x f(x)$. How can I get $\\nabla_x g(x)$?"
   ]
  },
  {
   "cell_type": "code",
   "execution_count": 2,
   "metadata": {},
   "outputs": [
    {
     "data": {
      "text/plain": [
       "tensor([4.])"
      ]
     },
     "execution_count": 2,
     "metadata": {},
     "output_type": "execute_result"
    }
   ],
   "source": [
    "def f(x):\n",
    "    return x**2\n",
    "\n",
    "x = torch.tensor([2.0], requires_grad=True)\n",
    "y = f(x)\n",
    "\n",
    "y.backward()\n",
    "x.grad"
   ]
  },
  {
   "cell_type": "markdown",
   "metadata": {},
   "source": [
    "For reference, in this case $g(x) = 3x$ and $\\nabla_x g(x)=3$."
   ]
  },
  {
   "cell_type": "code",
   "execution_count": 3,
   "metadata": {},
   "outputs": [
    {
     "data": {
      "text/plain": [
       "tensor([12.])"
      ]
     },
     "execution_count": 3,
     "metadata": {},
     "output_type": "execute_result"
    }
   ],
   "source": [
    "### torch.autograd.grad test\n",
    "x = torch.tensor([2.0], requires_grad=True)\n",
    "\n",
    "def h(x):\n",
    "    return x**3 \n",
    "\n",
    "def h_prime(x):\n",
    "    return grad(h(x), x, create_graph=True, only_inputs=True)[0]\n",
    "\n",
    "z = h_prime(x)\n",
    "z.backward()\n",
    "\n",
    "x.grad"
   ]
  },
  {
   "cell_type": "markdown",
   "metadata": {},
   "source": [
    "Yeah, this library is amazing. I should try to implement this myself at some point."
   ]
  },
  {
   "cell_type": "code",
   "execution_count": 4,
   "metadata": {},
   "outputs": [
    {
     "data": {
      "text/plain": [
       "tensor([3.])"
      ]
     },
     "execution_count": 4,
     "metadata": {},
     "output_type": "execute_result"
    }
   ],
   "source": [
    "def g(x):\n",
    "    return x + grad(f(x), x, create_graph=True)[0]\n",
    "\n",
    "x = torch.tensor([-4.0], requires_grad=True)\n",
    "y = g(x)\n",
    "\n",
    "y.backward()\n",
    "x.grad"
   ]
  },
  {
   "cell_type": "markdown",
   "metadata": {},
   "source": [
    "**langevin-stein**\n",
    "\n",
    "Now to test this on the Langevin-Stein operator: $$\\mathcal{A}_p\\phi(x) = \\phi(x)\\nabla_x\\log{p(x)}^T + \\nabla_x\\phi(x)$$"
   ]
  },
  {
   "cell_type": "code",
   "execution_count": 5,
   "metadata": {},
   "outputs": [],
   "source": [
    "def langevin_stein(p, phi, x):\n",
    "    \"\"\"\n",
    "    implementation of the Langevin-Stein operator, which is an operator\n",
    "    variational objective useful for SVGD.\n",
    "    \"\"\"\n",
    "    def logp(x):\n",
    "        return torch.log(p(x))\n",
    "    nabla_logp = grad(logp(x), x, create_graph=True)[0]\n",
    "    return torch.dot(phi(x), nabla_logp) + grad(phi(x), x, create_graph=True)[0]"
   ]
  },
  {
   "cell_type": "code",
   "execution_count": 6,
   "metadata": {},
   "outputs": [
    {
     "data": {
      "text/plain": [
       "tensor([9.])"
      ]
     },
     "execution_count": 6,
     "metadata": {},
     "output_type": "execute_result"
    }
   ],
   "source": [
    "def phi(x):\n",
    "    return x**3\n",
    "\n",
    "def p(x):\n",
    "    return torch.exp(x)\n",
    "\n",
    "x = torch.tensor([1.0], requires_grad=True)\n",
    "y = langevin_stein(p, phi, x)\n",
    "\n",
    "# in this case, langevin_stein(p, phi, x) = x**3 + 3x**2,\n",
    "#               gradient(LS) = 3x**2 + 6x\n",
    "y.backward()\n",
    "x.grad"
   ]
  },
  {
   "cell_type": "markdown",
   "metadata": {},
   "source": [
    "**vectorizing**"
   ]
  },
  {
   "cell_type": "code",
   "execution_count": 7,
   "metadata": {},
   "outputs": [
    {
     "name": "stdout",
     "output_type": "stream",
     "text": [
      "tensor([[1., 2.],\n",
      "        [3., 4.]], requires_grad=True)\n"
     ]
    }
   ],
   "source": [
    "def f(x):\n",
    "    return x**2\n",
    "\n",
    "x = torch.tensor([[1.0, 2.0], [3.0, 4.0]], requires_grad=True)\n",
    "print(x)"
   ]
  },
  {
   "cell_type": "code",
   "execution_count": 8,
   "metadata": {},
   "outputs": [
    {
     "name": "stdout",
     "output_type": "stream",
     "text": [
      "tensor([[ 1.,  4.],\n",
      "        [ 9., 16.]], grad_fn=<PowBackward0>)\n"
     ]
    },
    {
     "data": {
      "text/plain": [
       "tensor([[2., 4.],\n",
       "        [6., 8.]], grad_fn=<MulBackward0>)"
      ]
     },
     "execution_count": 8,
     "metadata": {},
     "output_type": "execute_result"
    }
   ],
   "source": [
    "print(f(x))\n",
    "grad(f(x), x, grad_outputs=torch.ones_like(x), create_graph=True)[0]"
   ]
  },
  {
   "cell_type": "code",
   "execution_count": 16,
   "metadata": {},
   "outputs": [
    {
     "data": {
      "text/plain": [
       "tensor([[0., 3.]], grad_fn=<MmBackward>)"
      ]
     },
     "execution_count": 16,
     "metadata": {},
     "output_type": "execute_result"
    }
   ],
   "source": [
    "x = torch.tensor([[1.0, 1.0]], requires_grad=True)\n",
    "ker = torch.tensor([[1.0, 2.0], [-1.0, 1.0]], requires_grad=True)\n",
    "torch.mm(x, ker)"
   ]
  },
  {
   "cell_type": "code",
   "execution_count": 28,
   "metadata": {},
   "outputs": [
    {
     "data": {
      "text/plain": [
       "(tensor([[ 2.,  4.],\n",
       "         [27., 48.]]),)"
      ]
     },
     "execution_count": 28,
     "metadata": {},
     "output_type": "execute_result"
    }
   ],
   "source": [
    "def f(x):\n",
    "    res = torch.zeros_like(x)\n",
    "    res[0] = x[0] ** 2\n",
    "    res[1] = x[1] ** 3\n",
    "    return res\n",
    "\n",
    "x = torch.tensor([[1.0, 2.0], [3.0, 4.0]], requires_grad=True)\n",
    "grad(f(x), x, grad_outputs=torch.ones_like(x))"
   ]
  },
  {
   "cell_type": "code",
   "execution_count": null,
   "metadata": {},
   "outputs": [],
   "source": []
  }
 ],
 "metadata": {
  "kernelspec": {
   "display_name": "Python 3",
   "language": "python",
   "name": "python3"
  },
  "language_info": {
   "codemirror_mode": {
    "name": "ipython",
    "version": 3
   },
   "file_extension": ".py",
   "mimetype": "text/x-python",
   "name": "python",
   "nbconvert_exporter": "python",
   "pygments_lexer": "ipython3",
   "version": "3.6.7"
  }
 },
 "nbformat": 4,
 "nbformat_minor": 2
}
