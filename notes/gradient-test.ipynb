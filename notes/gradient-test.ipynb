{
 "cells": [
  {
   "cell_type": "code",
   "execution_count": 1,
   "metadata": {},
   "outputs": [],
   "source": [
    "import numpy as np\n",
    "import matplotlib.pyplot as plt\n",
    "plt.style.use(\"ggplot\")\n",
    "\n",
    "import torch\n",
    "from torch.autograd import grad"
   ]
  },
  {
   "cell_type": "markdown",
   "metadata": {},
   "source": [
    "I don't know how to deal with PyTorch gradients.\n",
    "\n",
    "Suppose I have a function $f(x) = x^2$ and a function $g(x) = x + \\nabla_x f(x)$. How can I get $\\nabla_x g(x)$?"
   ]
  },
  {
   "cell_type": "code",
   "execution_count": 2,
   "metadata": {},
   "outputs": [
    {
     "data": {
      "text/plain": [
       "tensor([4.])"
      ]
     },
     "execution_count": 2,
     "metadata": {},
     "output_type": "execute_result"
    }
   ],
   "source": [
    "def f(x):\n",
    "    return x**2\n",
    "\n",
    "x = torch.tensor([2.0], requires_grad=True)\n",
    "y = f(x)\n",
    "\n",
    "y.backward()\n",
    "x.grad"
   ]
  },
  {
   "cell_type": "markdown",
   "metadata": {},
   "source": [
    "For reference, in this case $g(x) = 3x$ and $\\nabla_x g(x)=3$."
   ]
  },
  {
   "cell_type": "code",
   "execution_count": 3,
   "metadata": {},
   "outputs": [
    {
     "data": {
      "text/plain": [
       "tensor([12.])"
      ]
     },
     "execution_count": 3,
     "metadata": {},
     "output_type": "execute_result"
    }
   ],
   "source": [
    "### torch.autograd.grad test\n",
    "x = torch.tensor([2.0], requires_grad=True)\n",
    "\n",
    "def h(x):\n",
    "    return x**3 \n",
    "\n",
    "def h_prime(x):\n",
    "    return grad(h(x), x, create_graph=True, only_inputs=True)[0]\n",
    "\n",
    "z = h_prime(x)\n",
    "z.backward()\n",
    "\n",
    "x.grad"
   ]
  },
  {
   "cell_type": "markdown",
   "metadata": {},
   "source": [
    "Yeah, this library is amazing. I should try to implement this myself at some point."
   ]
  },
  {
   "cell_type": "code",
   "execution_count": 4,
   "metadata": {},
   "outputs": [
    {
     "data": {
      "text/plain": [
       "tensor([3.])"
      ]
     },
     "execution_count": 4,
     "metadata": {},
     "output_type": "execute_result"
    }
   ],
   "source": [
    "def g(x):\n",
    "    return x + grad(f(x), x, create_graph=True)[0]\n",
    "\n",
    "x = torch.tensor([-4.0], requires_grad=True)\n",
    "y = g(x)\n",
    "\n",
    "y.backward()\n",
    "x.grad"
   ]
  },
  {
   "cell_type": "markdown",
   "metadata": {},
   "source": [
    "**langevin-stein**\n",
    "\n",
    "Now to test this on the Langevin-Stein operator: $$\\mathcal{A}_p\\phi(x) = \\phi(x)\\nabla_x\\log{p(x)}^T + \\nabla_x\\phi(x)$$"
   ]
  },
  {
   "cell_type": "code",
   "execution_count": 5,
   "metadata": {},
   "outputs": [],
   "source": [
    "def langevin_stein(p, phi, x):\n",
    "    \"\"\"\n",
    "    implementation of the Langevin-Stein operator, which is an operator\n",
    "    variational objective useful for SVGD.\n",
    "    \"\"\"\n",
    "    def logp(x):\n",
    "        return torch.log(p(x))\n",
    "    nabla_logp = grad(logp(x), x, create_graph=True)[0]\n",
    "    return torch.dot(phi(x), nabla_logp) + grad(phi(x), x, create_graph=True)[0]"
   ]
  },
  {
   "cell_type": "code",
   "execution_count": 9,
   "metadata": {},
   "outputs": [
    {
     "data": {
      "text/plain": [
       "tensor([9.])"
      ]
     },
     "execution_count": 9,
     "metadata": {},
     "output_type": "execute_result"
    }
   ],
   "source": [
    "def phi(x):\n",
    "    return x**3\n",
    "\n",
    "def p(x):\n",
    "    return torch.exp(x)\n",
    "\n",
    "x = torch.tensor([1.0], requires_grad=True)\n",
    "y = langevin_stein(p, phi, x)\n",
    "\n",
    "# in this case, langevin_stein(p, phi, x) = x**3 + 3x**2,\n",
    "#               gradient(LS) = 3x**2 + 6x\n",
    "y.backward()\n",
    "x.grad"
   ]
  },
  {
   "cell_type": "code",
   "execution_count": null,
   "metadata": {},
   "outputs": [],
   "source": []
  }
 ],
 "metadata": {
  "kernelspec": {
   "display_name": "Python 3",
   "language": "python",
   "name": "python3"
  },
  "language_info": {
   "codemirror_mode": {
    "name": "ipython",
    "version": 3
   },
   "file_extension": ".py",
   "mimetype": "text/x-python",
   "name": "python",
   "nbconvert_exporter": "python",
   "pygments_lexer": "ipython3",
   "version": "3.6.7"
  }
 },
 "nbformat": 4,
 "nbformat_minor": 2
}
